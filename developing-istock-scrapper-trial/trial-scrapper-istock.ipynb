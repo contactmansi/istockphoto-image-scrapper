{
 "cells": [
  {
   "cell_type": "code",
   "execution_count": 1,
   "metadata": {},
   "outputs": [],
   "source": [
    "import os\n",
    "from shutil import rmtree\n",
    "import urllib3\n",
    "import urllib3.request\n",
    "from bs4 import BeautifulSoup\n",
    "from tqdm import tqdm\n",
    "from istockphoto import IStockSearch\n",
    "from scrapper import Scrapper"
   ]
  },
  {
   "cell_type": "code",
   "execution_count": 23,
   "metadata": {},
   "outputs": [
    {
     "name": "stdout",
     "output_type": "stream",
     "text": [
      "Starting!\n",
      "<img alt=\"Sign language number 2 for the deaf . Fingerspelling in American Sign Language (ASL). Hand gesture number two on a white background. stock photo\" class=\"MosaicAsset-module__thumb___klD9E\" height=\"612\" src=\"https://media.istockphoto.com/photos/sign-language-number-2-for-the-deaf-fingerspelling-in-american-sign-picture-id1196283840?k=20&amp;m=1196283840&amp;s=612x612&amp;w=0&amp;h=shQRn7fq9CFrzHymA1A8agxfb6XzqGPajeO-jO2dJC0=\" width=\"612\"/>\n",
      "<img alt=\"Man's hand making holding isolated on white background stock photo\" class=\"MosaicAsset-module__thumb___klD9E\" height=\"408\" src=\"https://media.istockphoto.com/photos/mans-hand-making-holding-isolated-on-white-background-picture-id914082684?k=20&amp;m=914082684&amp;s=612x612&amp;w=0&amp;h=vlJfbSWyCoFyhEVs3z_sjyhPFHoySJPKC_fui0zMPqU=\" width=\"612\"/>\n",
      "<img alt=\"pointing symbol of hand white isolated stock photo\" class=\"MosaicAsset-module__thumb___klD9E\" height=\"408\" src=\"https://media.istockphoto.com/photos/pointing-symbol-of-hand-white-isolated-picture-id506327410?k=20&amp;m=506327410&amp;s=612x612&amp;w=0&amp;h=lkrFApw6L3agD9DAGRDH32uAnafF9DFtReEVrskDF7w=\" width=\"612\"/>\n",
      "<img alt=\"disrespectful stock photo\" class=\"MosaicAsset-module__thumb___klD9E\" height=\"408\" src=\"https://media.istockphoto.com/photos/disrespectful-picture-id880334094?k=20&amp;m=880334094&amp;s=612x612&amp;w=0&amp;h=m2h1Cmjg93xYJ_LEwx4_rsNyr7iyJtFMN68pwXIQ8dM=\" width=\"612\"/>\n",
      "<img alt=\"Alphabet letter R in sign language for the deaf . Fingerspelling in American Sign Language (ASL). Hand gesture letter R on a white background. stock photo\" class=\"MosaicAsset-module__thumb___klD9E\" height=\"612\" src=\"https://media.istockphoto.com/photos/alphabet-letter-r-in-sign-language-for-the-deaf-fingerspelling-in-picture-id1196294758?k=20&amp;m=1196294758&amp;s=612x612&amp;w=0&amp;h=8PiEjfFK9KQDxda7aEhchqdO4asPt1YHVIeOj0ymBzU=\" width=\"612\"/>\n",
      "<img alt=\"Man hand stock photo\" class=\"MosaicAsset-module__thumb___klD9E\" height=\"612\" src=\"https://media.istockphoto.com/photos/man-hand-picture-id490508356?k=20&amp;m=490508356&amp;s=612x612&amp;w=0&amp;h=dyFxV6574z_CI5S0TE-3_oLa2RiW_ru5ra9QEAilsGI=\" width=\"408\"/>\n",
      "<img alt=\"Hand holding medical paper blood pressure record isolated on white background stock photo\" class=\"MosaicAsset-module__thumb___klD9E\" height=\"408\" src=\"https://media.istockphoto.com/photos/hand-holding-medical-paper-blood-pressure-record-isolated-on-white-picture-id1192880929?k=20&amp;m=1192880929&amp;s=612x612&amp;w=0&amp;h=_tWngdnX7Q66k7233pH9HSZUrIcC3rIt2aPqAp9W5lw=\" width=\"612\"/>\n",
      "<img alt=\"hand and people with body part stock photo\" class=\"MosaicAsset-module__thumb___klD9E\" height=\"408\" src=\"https://media.istockphoto.com/photos/hand-and-people-with-body-part-picture-id1257586719?k=20&amp;m=1257586719&amp;s=612x612&amp;w=0&amp;h=R6g67m5dRJHV2L7aaKWMimk7Z8ymXTNq3_J1zkloIVA=\" width=\"612\"/>\n",
      "<img alt=\"Hand With Peace Sign stock photo\" class=\"MosaicAsset-module__thumb___klD9E\" height=\"612\" src=\"https://media.istockphoto.com/photos/hand-with-peace-sign-picture-id98380578?k=20&amp;m=98380578&amp;s=612x612&amp;w=0&amp;h=0k-JASZ6DxrsMACV-7b3zOZxYtV6bkhr7GyqO3PMOmA=\" width=\"408\"/>\n",
      "<img alt=\"PEACE stock photo\" class=\"MosaicAsset-module__thumb___klD9E\" height=\"612\" src=\"https://media.istockphoto.com/photos/-picture-id183028247?k=20&amp;m=183028247&amp;s=612x612&amp;w=0&amp;h=MVqrhHw2yyszS_Zd3mIJXMDD-aZ5MWEiWr-vw2c2Foo=\" width=\"488\"/>\n"
     ]
    }
   ],
   "source": [
    "pool_man = urllib3.PoolManager()\n",
    "parser_type = 'html.parser'\n",
    "downloaded_im = 0\n",
    "links = None\n",
    "response = None\n",
    "print('Starting!')\n",
    "page = 1\n",
    "url = \"https://www.istockphoto.com/search/search-by-asset?assetid=1196283839&assettype=image\"\n",
    "response = pool_man.request('GET', url)\n",
    "soup = BeautifulSoup(response.data, parser_type)\n",
    "links = soup.find_all('img', 'MosaicAsset-module__thumb___klD9E')\n",
    "save_path = 'istockphoto' + '_' + 'asl'\n",
    "if os.path.exists(save_path):\n",
    "    rmtree(save_path, ignore_errors=True)\n",
    "os.mkdir(save_path)\n",
    "for link in links:\n",
    "    print(link)\n",
    "    im_url = link.get('src')\n",
    "    im_caption = link.get('alt')\n",
    "    im_request = pool_man.request('GET', im_url, preload_content=False)\n",
    "    with open(os.path.join(save_path, f'{im_caption}_{downloaded_im+1:04}.jpg'), 'wb') as out:\n",
    "        while True:\n",
    "            data = im_request.read(256)\n",
    "            if not data:\n",
    "                break\n",
    "            out.write(data)\n",
    "    downloaded_im += 1\n",
    "    if downloaded_im >= 10:\n",
    "        break\n",
    "    im_request.release_conn()\n"
   ]
  }
 ],
 "metadata": {
  "kernelspec": {
   "display_name": "Python 3.8.13 ('cvenv_reviews')",
   "language": "python",
   "name": "python3"
  },
  "language_info": {
   "codemirror_mode": {
    "name": "ipython",
    "version": 3
   },
   "file_extension": ".py",
   "mimetype": "text/x-python",
   "name": "python",
   "nbconvert_exporter": "python",
   "pygments_lexer": "ipython3",
   "version": "3.8.13"
  },
  "orig_nbformat": 4,
  "vscode": {
   "interpreter": {
    "hash": "5c5aabcbdf8ba13a8b94280890e476d43009a0d191c8e99c1c62d897b839ff4d"
   }
  }
 },
 "nbformat": 4,
 "nbformat_minor": 2
}
